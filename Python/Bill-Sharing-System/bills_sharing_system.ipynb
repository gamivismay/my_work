{
 "cells": [
  {
   "cell_type": "markdown",
   "metadata": {},
   "source": [
    "<h1>Bills Sharing System</h1>"
   ]
  },
  {
   "cell_type": "markdown",
   "metadata": {},
   "source": [
    "<h4>Purpose of this system is to calculate bills sharing amount per head between roommates.</h4>"
   ]
  },
  {
   "cell_type": "code",
   "execution_count": 1,
   "metadata": {},
   "outputs": [],
   "source": [
    "# import necessary libraries\n",
    "import numpy as np\n",
    "import pandas as pd\n",
    "from os import listdir\n",
    "from IPython import display\n",
    "import ipywidgets as widgets\n",
    "from tabulate import tabulate"
   ]
  },
  {
   "cell_type": "code",
   "execution_count": 2,
   "metadata": {},
   "outputs": [],
   "source": [
    "# global variable declaration\n",
    "names = []"
   ]
  },
  {
   "cell_type": "code",
   "execution_count": 78,
   "metadata": {},
   "outputs": [
    {
     "ename": "SyntaxError",
     "evalue": "EOL while scanning string literal (<ipython-input-78-22351b9fb820>, line 19)",
     "output_type": "error",
     "traceback": [
      "\u001b[1;36m  File \u001b[1;32m\"<ipython-input-78-22351b9fb820>\"\u001b[1;36m, line \u001b[1;32m19\u001b[0m\n\u001b[1;33m    print(f\"Before selection: {selected_contributors})\u001b[0m\n\u001b[1;37m                                                      ^\u001b[0m\n\u001b[1;31mSyntaxError\u001b[0m\u001b[1;31m:\u001b[0m EOL while scanning string literal\n"
     ]
    }
   ],
   "source": [
    "# calculating bills starts here - option 1\n",
    "def calculate_bills():\n",
    "    global names\n",
    "    calculate_again = \"True\"\n",
    "    print(\"Choose bill file to start calculating bills.\")\n",
    "    file_name = select_bill()\n",
    "    print(f\"Calculating bills for: {file_name}\")\n",
    "    open_file = open(\"bills/\" + file_name ,'r')\n",
    "    names = ((open_file.readline()).strip()).split(',')[2:]\n",
    "        \n",
    "    while calculate_again:\n",
    "        bill_no = input(\"Enter bill name: \")\n",
    "        item_amount = float(input(\"Enter item amount: \"))\n",
    "        print(\"Please select names of contributors in this item.\")\n",
    "        label = widgets.Label()\n",
    "        checkbox_dict = {description: widgets.Checkbox(description=description, value=False, indent=False) for description in names}\n",
    "        checkbox = [checkbox_dict[description] for description in names]     \n",
    "        selected_contributors = []    \n",
    "        print(f\"Before selection: {selected_contributors})\n",
    "        hbox = widgets.HBox(checkbox, layout={'overflow': 'scroll'})\n",
    "        vbox = widgets.VBox([hbox, label])\n",
    "        display(vbox)\n",
    "        item_option = input(\"Do you want to enter another item? (Y/N): \").upper()\n",
    "        if item_option == 'Y':\n",
    "            selected_contributors = [checkbox[i].description for i in range(0,len(checkbox)) if checkbox[i].value == True]\n",
    "            label.value = str(selected_contributors)[1:-1]\n",
    "            print(f\"After selection: {selected_contributors}\")\n",
    "        elif item_option == 'N':\n",
    "            calculate_again = False\n",
    "            break \n",
    "                "
   ]
  },
  {
   "cell_type": "code",
   "execution_count": 79,
   "metadata": {},
   "outputs": [
    {
     "name": "stdout",
     "output_type": "stream",
     "text": [
      "Choose bill file to start calculating bills.\n",
      "|    | bills                          |\n",
      "|----+--------------------------------|\n",
      "|  0 | 15-4-2019_15-5-2019 - Copy.csv |\n",
      "|  1 | 15-4-2019_15-5-2019.csv        |\n",
      "|  2 | 15th-may_15th-june.csv         |\n",
      "|  3 | test.csv                       |\n",
      "Please enter index number of bill to read its data: 3\n",
      "Calculating bills for: test.csv\n",
      "Enter bill name: 1\n",
      "Enter item amount: 1\n",
      "Please select names of contributors in this item.\n"
     ]
    },
    {
     "data": {
      "application/vnd.jupyter.widget-view+json": {
       "model_id": "6e5c4b52532f4424a1a7d819dfedb04b",
       "version_major": 2,
       "version_minor": 0
      },
      "text/html": [
       "<p>Failed to display Jupyter Widget of type <code>VBox</code>.</p>\n",
       "<p>\n",
       "  If you're reading this message in the Jupyter Notebook or JupyterLab Notebook, it may mean\n",
       "  that the widgets JavaScript is still loading. If this message persists, it\n",
       "  likely means that the widgets JavaScript library is either not installed or\n",
       "  not enabled. See the <a href=\"https://ipywidgets.readthedocs.io/en/stable/user_install.html\">Jupyter\n",
       "  Widgets Documentation</a> for setup instructions.\n",
       "</p>\n",
       "<p>\n",
       "  If you're reading this message in another frontend (for example, a static\n",
       "  rendering on GitHub or <a href=\"https://nbviewer.jupyter.org/\">NBViewer</a>),\n",
       "  it may mean that your frontend doesn't currently support widgets.\n",
       "</p>\n"
      ],
      "text/plain": [
       "VBox(children=(HBox(children=(Checkbox(value=False, description='vismay', indent=False), Checkbox(value=False, description='jigar', indent=False), Checkbox(value=False, description='harshil', indent=False), Checkbox(value=False, description='pratik', indent=False)), layout=Layout(overflow='scroll')), Label(value='')))"
      ]
     },
     "metadata": {},
     "output_type": "display_data"
    },
    {
     "name": "stdout",
     "output_type": "stream",
     "text": [
      "Do you want to enter another item? (Y/N): y\n",
      "\n",
      "Enter bill name: 1\n",
      "Enter item amount: 1\n",
      "Please select names of contributors in this item.\n"
     ]
    },
    {
     "data": {
      "application/vnd.jupyter.widget-view+json": {
       "model_id": "3232fcd8bdb44f0497ce417eb22cb589",
       "version_major": 2,
       "version_minor": 0
      },
      "text/html": [
       "<p>Failed to display Jupyter Widget of type <code>VBox</code>.</p>\n",
       "<p>\n",
       "  If you're reading this message in the Jupyter Notebook or JupyterLab Notebook, it may mean\n",
       "  that the widgets JavaScript is still loading. If this message persists, it\n",
       "  likely means that the widgets JavaScript library is either not installed or\n",
       "  not enabled. See the <a href=\"https://ipywidgets.readthedocs.io/en/stable/user_install.html\">Jupyter\n",
       "  Widgets Documentation</a> for setup instructions.\n",
       "</p>\n",
       "<p>\n",
       "  If you're reading this message in another frontend (for example, a static\n",
       "  rendering on GitHub or <a href=\"https://nbviewer.jupyter.org/\">NBViewer</a>),\n",
       "  it may mean that your frontend doesn't currently support widgets.\n",
       "</p>\n"
      ],
      "text/plain": [
       "VBox(children=(HBox(children=(Checkbox(value=False, description='vismay', indent=False), Checkbox(value=False, description='jigar', indent=False), Checkbox(value=False, description='harshil', indent=False), Checkbox(value=False, description='pratik', indent=False)), layout=Layout(overflow='scroll')), Label(value='')))"
      ]
     },
     "metadata": {},
     "output_type": "display_data"
    },
    {
     "name": "stdout",
     "output_type": "stream",
     "text": [
      "Do you want to enter another item? (Y/N): n\n"
     ]
    }
   ],
   "source": [
    "calculate_bills()"
   ]
  },
  {
   "cell_type": "code",
   "execution_count": 77,
   "metadata": {},
   "outputs": [
    {
     "data": {
      "text/plain": [
       "['vismay']"
      ]
     },
     "execution_count": 77,
     "metadata": {},
     "output_type": "execute_result"
    }
   ],
   "source": [
    "selected_contributors"
   ]
  },
  {
   "cell_type": "code",
   "execution_count": 61,
   "metadata": {},
   "outputs": [
    {
     "ename": "NameError",
     "evalue": "name 'interact' is not defined",
     "output_type": "error",
     "traceback": [
      "\u001b[1;31m---------------------------------------------------------------------------\u001b[0m",
      "\u001b[1;31mNameError\u001b[0m                                 Traceback (most recent call last)",
      "\u001b[1;32m<ipython-input-61-a56aca683836>\u001b[0m in \u001b[0;36m<module>\u001b[1;34m()\u001b[0m\n\u001b[0;32m      6\u001b[0m \u001b[1;33m\u001b[0m\u001b[0m\n\u001b[0;32m      7\u001b[0m \u001b[0mw\u001b[0m \u001b[1;33m=\u001b[0m \u001b[0mwidgets\u001b[0m\u001b[1;33m.\u001b[0m\u001b[0mCheckbox\u001b[0m\u001b[1;33m(\u001b[0m\u001b[0mvalue\u001b[0m\u001b[1;33m=\u001b[0m\u001b[1;32mTrue\u001b[0m\u001b[1;33m,\u001b[0m \u001b[0mdescription\u001b[0m\u001b[1;33m=\u001b[0m\u001b[1;34m'Updated?'\u001b[0m\u001b[1;33m)\u001b[0m\u001b[1;33m\u001b[0m\u001b[0m\n\u001b[1;32m----> 8\u001b[1;33m \u001b[0minteract\u001b[0m\u001b[1;33m(\u001b[0m\u001b[0mf\u001b[0m\u001b[1;33m,\u001b[0m\u001b[0mx\u001b[0m\u001b[1;33m=\u001b[0m\u001b[0mw\u001b[0m\u001b[1;33m)\u001b[0m\u001b[1;33m\u001b[0m\u001b[0m\n\u001b[0m",
      "\u001b[1;31mNameError\u001b[0m: name 'interact' is not defined"
     ]
    }
   ],
   "source": [
    "from IPython.display import display\n",
    "import ipywidgets as widgets\n",
    "\n",
    "def f(x):\n",
    "    return 'value of checkbox is: ' + str(x)\n",
    "\n",
    "w = widgets.Checkbox(value=True, description='Updated?')\n",
    "interact(f,x=w)"
   ]
  },
  {
   "cell_type": "code",
   "execution_count": 68,
   "metadata": {},
   "outputs": [],
   "source": [
    "def select_contributors():\n",
    "    label = widgets.Label()\n",
    "    checkbox_dict = {description: widgets.Checkbox(description=description, value=False, indent=False) for description in names}\n",
    "    checkbox = [checkbox_dict[description] for description in names]     \n",
    "    selected_contributors = []    \n",
    "    hbox = widgets.HBox(checkbox, layout={'overflow': 'scroll'})\n",
    "    vbox = widgets.VBox([hbox, label])\n",
    "    display(vbox)\n",
    "    selected_contributors = [checkbox[i].description for i in range(0,len(checkbox)) if checkbox[i].value == True]\n",
    "    label.value = str(selected_contributors)[1:-1]\n",
    "    print(label.value)\n",
    "        \n"
   ]
  },
  {
   "cell_type": "code",
   "execution_count": 69,
   "metadata": {},
   "outputs": [
    {
     "data": {
      "application/vnd.jupyter.widget-view+json": {
       "model_id": "6efe3bed0be2400c9bda8a31019f1a9b",
       "version_major": 2,
       "version_minor": 0
      },
      "text/html": [
       "<p>Failed to display Jupyter Widget of type <code>VBox</code>.</p>\n",
       "<p>\n",
       "  If you're reading this message in the Jupyter Notebook or JupyterLab Notebook, it may mean\n",
       "  that the widgets JavaScript is still loading. If this message persists, it\n",
       "  likely means that the widgets JavaScript library is either not installed or\n",
       "  not enabled. See the <a href=\"https://ipywidgets.readthedocs.io/en/stable/user_install.html\">Jupyter\n",
       "  Widgets Documentation</a> for setup instructions.\n",
       "</p>\n",
       "<p>\n",
       "  If you're reading this message in another frontend (for example, a static\n",
       "  rendering on GitHub or <a href=\"https://nbviewer.jupyter.org/\">NBViewer</a>),\n",
       "  it may mean that your frontend doesn't currently support widgets.\n",
       "</p>\n"
      ],
      "text/plain": [
       "VBox(children=(HBox(children=(Checkbox(value=False, description='vismay', indent=False), Checkbox(value=False, description='jigar', indent=False), Checkbox(value=False, description='harshil', indent=False), Checkbox(value=False, description='pratik', indent=False)), layout=Layout(overflow='scroll')), Label(value='')))"
      ]
     },
     "metadata": {},
     "output_type": "display_data"
    },
    {
     "name": "stdout",
     "output_type": "stream",
     "text": [
      "\n"
     ]
    }
   ],
   "source": [
    "select_contributors()"
   ]
  },
  {
   "cell_type": "code",
   "execution_count": 71,
   "metadata": {},
   "outputs": [
    {
     "data": {
      "text/plain": [
       "['vismay']"
      ]
     },
     "execution_count": 71,
     "metadata": {},
     "output_type": "execute_result"
    }
   ],
   "source": [
    "selected_contributors"
   ]
  },
  {
   "cell_type": "code",
   "execution_count": 6,
   "metadata": {},
   "outputs": [],
   "source": [
    "def add_contributors():\n",
    "    global names\n",
    "    names_choice = input(\"Enter contributor's names seperarted with comma (e.g. vismay, gami): \").split(',')\n",
    "    names = [name.strip() for name in names_choice]\n",
    "    return names"
   ]
  },
  {
   "cell_type": "code",
   "execution_count": 7,
   "metadata": {},
   "outputs": [],
   "source": [
    "# create a new file for bill session every month\n",
    "def create_file(file_name, names):\n",
    "    header_line = \"Bill_No,Item_amount,\" + \",\".join(names) + \"\\n\"\n",
    "    new_file = open(\"bills/\" + file_name + \".csv\",'w')\n",
    "    new_file.write(header_line)\n",
    "    new_file.close()"
   ]
  },
  {
   "cell_type": "code",
   "execution_count": 8,
   "metadata": {},
   "outputs": [],
   "source": [
    "# select any one bill out of all\n",
    "def select_bill():\n",
    "    bills_list = pd.DataFrame(listdir(\"bills/\"), columns=[\"bills\"])\n",
    "    print(tabulate(bills_list, headers='keys', tablefmt = 'orgtbl'))\n",
    "    bill_no = int(input(\"Please enter index number of bill to read its data: \"))\n",
    "    bill_name = bills_list.iloc[bill_no]['bills']\n",
    "    return bill_name"
   ]
  },
  {
   "cell_type": "code",
   "execution_count": 9,
   "metadata": {},
   "outputs": [],
   "source": [
    "# read data from bill file\n",
    "def read_bills():\n",
    "    read_bill_name = select_bill()\n",
    "    file_data_set = pd.read_csv(\"bills/\" + read_bill_name)\n",
    "    print(tabulate(file_data_set, headers='keys', tablefmt='rst'))\n",
    "    return file_data_set"
   ]
  },
  {
   "cell_type": "code",
   "execution_count": 10,
   "metadata": {},
   "outputs": [],
   "source": [
    "# writes data to bill file\n",
    "def write_bills(file_name):\n",
    "    write_data = open(file_name,'w')\n",
    "    write_data.write()\n",
    "    write_data.close()"
   ]
  },
  {
   "cell_type": "code",
   "execution_count": 11,
   "metadata": {},
   "outputs": [],
   "source": [
    "# append data to bill file\n",
    "def append_bills(file_name):\n",
    "    append_data = open('','w')\n",
    "    append_data.write()\n",
    "    append_data.close()"
   ]
  },
  {
   "cell_type": "code",
   "execution_count": null,
   "metadata": {},
   "outputs": [],
   "source": [
    "# Main logic \n",
    "global names\n",
    "print(\"Welcome to Bills calculating system.\")\n",
    "\n",
    "select_again = True\n",
    "while select_again:\n",
    "    option = int(input(\"1. Create New File \\n2. Calculate Bills \\n3. Read Bills \\n4. Edit Bills \\n5. Quit \\nChoose any one option:\"))\n",
    "    if option == 1:\n",
    "        file_name = input(\"Please enter file name: \")\n",
    "        add_contributors()\n",
    "        create_file(file_name, names)\n",
    "        print(\"New file {} created.\".format(file_name))\n",
    "    elif option == 2:\n",
    "        calculate_bills()\n",
    "    elif option == 3:\n",
    "        read_bills()\n",
    "    elif option == 4:\n",
    "        pass\n",
    "    else:\n",
    "        print(\"Session complete..!\")\n",
    "        break\n",
    "        select_again = False"
   ]
  },
  {
   "cell_type": "code",
   "execution_count": null,
   "metadata": {},
   "outputs": [],
   "source": []
  },
  {
   "cell_type": "code",
   "execution_count": null,
   "metadata": {},
   "outputs": [],
   "source": []
  },
  {
   "cell_type": "code",
   "execution_count": null,
   "metadata": {},
   "outputs": [],
   "source": []
  }
 ],
 "metadata": {
  "kernelspec": {
   "display_name": "Python 3",
   "language": "python",
   "name": "python3"
  },
  "language_info": {
   "codemirror_mode": {
    "name": "ipython",
    "version": 3
   },
   "file_extension": ".py",
   "mimetype": "text/x-python",
   "name": "python",
   "nbconvert_exporter": "python",
   "pygments_lexer": "ipython3",
   "version": "3.6.4"
  }
 },
 "nbformat": 4,
 "nbformat_minor": 2
}
