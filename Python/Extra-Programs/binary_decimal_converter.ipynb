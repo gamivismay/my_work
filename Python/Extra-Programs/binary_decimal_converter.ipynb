{
 "cells": [
  {
   "cell_type": "code",
   "execution_count": 137,
   "metadata": {
    "scrolled": true
   },
   "outputs": [
    {
     "name": "stdout",
     "output_type": "stream",
     "text": [
      "Enter decimal number to convert into binary: 23\n",
      "Binary value for 23 is 0b10111.\n",
      "Decimal value for 0b10111 is 23.\n"
     ]
    }
   ],
   "source": [
    "\"\"\"\n",
    "Develop a converter to convert a decimal number to binary or a binary number to its decimal equivalent.\n",
    "\"\"\"\n",
    "\n",
    "# defining function to convert from decimal to binary\n",
    "def decimal_to_binary(num):\n",
    "    # returns binary number by builtint function\n",
    "    return bin(num)\n",
    "\n",
    "# defining function to convert from binary to decimal\n",
    "def binary_to_decimal(num):\n",
    "    # returns decimal number by builtin function\n",
    "    return int(num,2)\n",
    "\n",
    "# defining main function to define the program logic\n",
    "def main():\n",
    "    # getting input from user\n",
    "    num = int(input(\"Enter decimal number to convert into binary: \"))\n",
    "    # converting that number to binary by calling function\n",
    "    binary_value = decimal_to_binary(num)\n",
    "    print(\"Binary value for {} is {}.\".format(num, binary_value))    \n",
    "    print(\"Decimal value for {} is {}.\".format(str(binary_value), binary_to_decimal(binary_value)))\n",
    "\n",
    "# calling main function to run the program\n",
    "main()"
   ]
  },
  {
   "cell_type": "code",
   "execution_count": null,
   "metadata": {},
   "outputs": [],
   "source": []
  }
 ],
 "metadata": {
  "kernelspec": {
   "display_name": "Python 3",
   "language": "python",
   "name": "python3"
  },
  "language_info": {
   "codemirror_mode": {
    "name": "ipython",
    "version": 3
   },
   "file_extension": ".py",
   "mimetype": "text/x-python",
   "name": "python",
   "nbconvert_exporter": "python",
   "pygments_lexer": "ipython3",
   "version": "3.6.4"
  }
 },
 "nbformat": 4,
 "nbformat_minor": 2
}
