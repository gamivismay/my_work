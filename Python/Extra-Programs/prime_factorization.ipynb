{
 "cells": [
  {
   "cell_type": "code",
   "execution_count": 4,
   "metadata": {},
   "outputs": [
    {
     "name": "stdout",
     "output_type": "stream",
     "text": [
      "Please enter the number: 9999\n",
      "[3, 11, 101]\n"
     ]
    }
   ],
   "source": [
    "\"\"\"\n",
    "Practice Program-4\n",
    "Have the user enter a number and find all Prime Factors (if there are any) and display them.\n",
    "\"\"\"\n",
    "\n",
    "# defining prime_factorization function to find all the prime numbers\n",
    "def prime_factorization(num):\n",
    "    # declaring empty list to store all prime factors\n",
    "    prime_factors = []\n",
    "    # using loop to loop from 1 to the number entered by user\n",
    "    for i in range(1,num+1):\n",
    "        # setting counter to 0\n",
    "        count = 0\n",
    "        # checking if number entered is divisbile by each number from the range\n",
    "        if num%i == 0:\n",
    "            # using another loop to check if the number is prime number or not by checking if it is only\n",
    "            # divisble by itself and one\n",
    "            for j in range(1,num+1):\n",
    "                if i%j == 0 and i%1 == 0:\n",
    "                    count += 1\n",
    "            if count == 2:\n",
    "                # if the number is factor of the number entered and also is the prime number\n",
    "                # then its added to empty list of prime_factors\n",
    "                prime_factors.append(i)\n",
    "    # return value of function which is a list of prime factors\n",
    "    return prime_factors\n",
    "\n",
    "# defining main function to run the logic of the program\n",
    "def main():\n",
    "    # getting input from user\n",
    "    num = int(input(\"Please enter the number: \"))\n",
    "    # printing out the out if the another function when value passed as argument\n",
    "    print(prime_factorization(num))\n",
    "\n",
    "# calling main function to run the program\n",
    "main()\n"
   ]
  },
  {
   "cell_type": "code",
   "execution_count": null,
   "metadata": {},
   "outputs": [],
   "source": []
  }
 ],
 "metadata": {
  "kernelspec": {
   "display_name": "Python 3",
   "language": "python",
   "name": "python3"
  },
  "language_info": {
   "codemirror_mode": {
    "name": "ipython",
    "version": 3
   },
   "file_extension": ".py",
   "mimetype": "text/x-python",
   "name": "python",
   "nbconvert_exporter": "python",
   "pygments_lexer": "ipython3",
   "version": "3.6.4"
  }
 },
 "nbformat": 4,
 "nbformat_minor": 2
}
