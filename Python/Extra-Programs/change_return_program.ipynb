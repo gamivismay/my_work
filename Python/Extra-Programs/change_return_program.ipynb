{
 "cells": [
  {
   "cell_type": "code",
   "execution_count": 19,
   "metadata": {},
   "outputs": [
    {
     "name": "stdout",
     "output_type": "stream",
     "text": [
      "Enter the cost: $ 100\n",
      "Enter the money: $ 103\n",
      "Change left is $3.0\n",
      "===============\n",
      "Quarter:  12 \n",
      "Dime:      0 \n",
      "Nickel:    0 \n",
      "Penny:     0 \n"
     ]
    }
   ],
   "source": [
    "\"\"\"\n",
    "The user enters a cost and then the amount of money given. \n",
    "The program will figure out the change and the number of quarters, dimes, nickels, pennies needed for the change.\n",
    "\n",
    "Quarter= 25 cents\n",
    "Dime= 10 cents\n",
    "Nickel= 5 cents\n",
    "Penny= 1 cent\n",
    "\"\"\"\n",
    "\n",
    "# defining function to calculate the change after the given value of cost and money given\n",
    "def calculate_change(cost, money):\n",
    "    return money-cost\n",
    "\n",
    "# defining function to calculate quarter required for change\n",
    "def calculate_quarter(change_left):\n",
    "    # calculating quarter required\n",
    "    quarter = int((change_left * 100) / 25)\n",
    "    # calculating change left after getting quarter value\n",
    "    change_left = change_left - (quarter*0.25)\n",
    "    # return two values, quarter and change left after quarter\n",
    "    return quarter, change_left\n",
    "\n",
    "# defining function to calculate dime required for change\n",
    "def calculate_dime(change_left):\n",
    "    # calculating dime required\n",
    "    dime = int((change_left * 100) / 10)\n",
    "    #calculating change left after getting dime value\n",
    "    change_left = change_left - (dime * 0.10)\n",
    "    # return two values, dime and change left after dime\n",
    "    return dime, change_left\n",
    "\n",
    "# defining function to calculate nickel required for change\n",
    "def calculate_nickel(change_left):\n",
    "    # calculating nickel required\n",
    "    nickel = int(change_left * 100 / 5)\n",
    "    # calculating change_left after getting nickel value\n",
    "    change_left = change_left - (nickel * 0.05)\n",
    "    # return two value, nickel and change left after nickel\n",
    "    return nickel, change_left\n",
    "\n",
    "# defining function to calculate penny required for change\n",
    "def calculate_penny(change_left):\n",
    "    return int(change_left * 100)\n",
    "\n",
    "# defining main function to define the program logic\n",
    "def main():\n",
    "    # getting cost value from user input\n",
    "    cost = float(input(\"Enter the cost: $ \"))\n",
    "    # getting given money value from user input\n",
    "    money = float(input(\"Enter the money: $ \"))\n",
    "    # calculating change left by calling calculate_change function\n",
    "    change_left = calculate_change(cost,money)\n",
    "    print(\"Change left is ${}\".format(round(change_left,2)))\n",
    "    print(\"=\"*15)\n",
    "    # getting and storing value for quarter and change left after quarter\n",
    "    quarter,change_left = calculate_quarter(change_left)\n",
    "    # getting and storing value for dime and change left after dime    \n",
    "    dime, change_left = calculate_dime(change_left)\n",
    "    # getting and storing value for nickel and change left after nickel    \n",
    "    nickel, change_left = calculate_nickel(change_left)\n",
    "    # getting and storing value for penny    \n",
    "    penny = calculate_penny(change_left)\n",
    "    print(\"Quarter: %3d \" % quarter)\n",
    "    print(\"Dime: %6d \" % dime)\n",
    "    print(\"Nickel: %4d \" % nickel)\n",
    "    print(\"Penny: %5d \" % penny)\n",
    "    \n",
    "# calling main function to run the program\n",
    "main()        \n",
    "        "
   ]
  },
  {
   "cell_type": "code",
   "execution_count": null,
   "metadata": {},
   "outputs": [],
   "source": []
  }
 ],
 "metadata": {
  "kernelspec": {
   "display_name": "Python 3",
   "language": "python",
   "name": "python3"
  },
  "language_info": {
   "codemirror_mode": {
    "name": "ipython",
    "version": 3
   },
   "file_extension": ".py",
   "mimetype": "text/x-python",
   "name": "python",
   "nbconvert_exporter": "python",
   "pygments_lexer": "ipython3",
   "version": "3.6.4"
  }
 },
 "nbformat": 4,
 "nbformat_minor": 2
}
