{
 "cells": [
  {
   "cell_type": "code",
   "execution_count": 8,
   "metadata": {},
   "outputs": [
    {
     "name": "stdout",
     "output_type": "stream",
     "text": [
      "Enter mortgage term (in months): 24\n",
      "Enter interest rate: 10\n",
      "Enter loan value: 1000000\n",
      "Monthly payment for a $1000000.00 loan amount over a period of 24 months at interest rate of 10.00% is: $46144.93 \n"
     ]
    }
   ],
   "source": [
    "\"\"\"\n",
    "Calculate the monthly payments of a fixed term mortgage over given Nth terms at a given interest rate.\n",
    "Also figure out how long it will take the user to pay back the loan.\n",
    "For added complexity, add an option for users to select the compounding interval\n",
    "(Monthly, Weekly, Daily, Continually).\n",
    "\"\"\"\n",
    "\n",
    "# defining function to calculate mortgage payments per month according to the values passes\n",
    "def calculate_payments(monthly_term, interest_rate, loan_value):\n",
    "    # calculating monthly interest rate\n",
    "    monthly_rate = interest_rate/100/12\n",
    "    # storing values in single named variable to easily write the formula\n",
    "    p = loan_value\n",
    "    n = monthly_term\n",
    "    r = monthly_rate\n",
    "    # formula to calculate monthly mortgage payment\n",
    "    monthly_payments = p*((r*((1+r)**n))/(((1+r)**n)-1))\n",
    "    return monthly_payments\n",
    "\n",
    "# defining main function to run to program logic\n",
    "def main():\n",
    "    # getting input from user\n",
    "    monthly_term = int(input(\"Enter mortgage term (in months): \"))\n",
    "    interest_rate = float(input(\"Enter interest rate: \"))\n",
    "    loan_value = float(input(\"Enter loan value: \"))\n",
    "    print(\"Monthly payment for a $%.2f loan amount over a period of %s months at interest rate of %.2f%% is: $%.2f \" % (loan_value, monthly_term,interest_rate,calculate_payments(monthly_term,interest_rate,loan_value)))\n",
    "\n",
    "# calling main function to run the program\n",
    "main()\n"
   ]
  },
  {
   "cell_type": "code",
   "execution_count": null,
   "metadata": {},
   "outputs": [],
   "source": []
  }
 ],
 "metadata": {
  "kernelspec": {
   "display_name": "Python 3",
   "language": "python",
   "name": "python3"
  },
  "language_info": {
   "codemirror_mode": {
    "name": "ipython",
    "version": 3
   },
   "file_extension": ".py",
   "mimetype": "text/x-python",
   "name": "python",
   "nbconvert_exporter": "python",
   "pygments_lexer": "ipython3",
   "version": "3.6.4"
  }
 },
 "nbformat": 4,
 "nbformat_minor": 2
}
