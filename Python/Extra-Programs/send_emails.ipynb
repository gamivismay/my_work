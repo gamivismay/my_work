{
 "cells": [
  {
   "cell_type": "markdown",
   "metadata": {},
   "source": [
    "<h1>Python script to send emails.</h1>"
   ]
  },
  {
   "cell_type": "markdown",
   "metadata": {},
   "source": [
    "<h2>Send simple text emails</h2>"
   ]
  },
  {
   "cell_type": "code",
   "execution_count": 1,
   "metadata": {},
   "outputs": [
    {
     "name": "stdout",
     "output_type": "stream",
     "text": [
      "Successfully sent email.\n"
     ]
    }
   ],
   "source": [
    "# import smtplib for sending email\n",
    "import smtplib\n",
    "\n",
    "# import email modules that we will need\n",
    "from email.mime.text import MIMEText\n",
    "\n",
    "# sender's email address\n",
    "sender = \"info@vismaygami.com\"\n",
    "\n",
    "# recipient's email address\n",
    "receiver = \"gamivismaytesting@gmail.com\"\n",
    "\n",
    "# configuring mail details\n",
    "message = MIMEText(\"This is a test mail\")\n",
    "message['Subject'] = \"Testing\"\n",
    "message['From'] = sender\n",
    "message['To'] = receiver\n",
    "# msg['password'] = \"Info@vismaygami\"\n",
    "\n",
    "try:\n",
    "    send = smtplib.SMTP('smtpout.secureserver.net','80')\n",
    "    send.login('info@vismaygami.com','Info@vismaygami')\n",
    "    send.sendmail(sender, [receiver],message.as_string())\n",
    "    send.quit()\n",
    "    print(\"Successfully sent email.\")\n",
    "except:\n",
    "    print(\"Error: unable to send email.\")"
   ]
  },
  {
   "cell_type": "markdown",
   "metadata": {},
   "source": [
    "<h2>Send HTML emails</h2>"
   ]
  },
  {
   "cell_type": "code",
   "execution_count": 2,
   "metadata": {},
   "outputs": [
    {
     "name": "stdout",
     "output_type": "stream",
     "text": [
      "Successfully sent email.\n"
     ]
    }
   ],
   "source": [
    "# import smtplib for sending email\n",
    "import smtplib\n",
    "\n",
    "# sender's email address\n",
    "sender = \"info@vismaygami.com\"\n",
    "\n",
    "# recipient's email address\n",
    "receiver = \"gamivismaytesting@gmail.com\"\n",
    "\n",
    "# configuring message content details\n",
    "message = \"\"\"From: HTML Mail Testing <info@vismaygami.com>\n",
    "To: To Person <gamivismaytesting@gmail.com>\n",
    "MIME-Version: 1.0\n",
    "Content-type: text/html\n",
    "Subject: SMTP HTML e-mail test\n",
    "\n",
    "This is an e-mail message to be sent in HTML format\n",
    "<br>\n",
    "<b>This is HTML message.</b>\n",
    "<h1>This is headline.</h1>\n",
    "\"\"\"\n",
    "\n",
    "try:\n",
    "    send = smtplib.SMTP('smtpout.secureserver.net','80')\n",
    "    send.login('info@vismaygami.com','Info@vismaygami')\n",
    "    send.sendmail(sender, [receiver], message)\n",
    "    send.quit()\n",
    "    print(\"Successfully sent email.\")\n",
    "except:\n",
    "    print(\"Error: unable to send email.\")"
   ]
  },
  {
   "cell_type": "markdown",
   "metadata": {},
   "source": [
    "<h2>Send emails with attachments</h2>"
   ]
  },
  {
   "cell_type": "code",
   "execution_count": 3,
   "metadata": {},
   "outputs": [
    {
     "name": "stdout",
     "output_type": "stream",
     "text": [
      "Successfully sent email\n"
     ]
    }
   ],
   "source": [
    "#!/usr/bin/python\n",
    "\n",
    "import smtplib\n",
    "import base64\n",
    "\n",
    "filename = \"hello.txt\"\n",
    "\n",
    "# Read a file and encode it into base64 format\n",
    "fo = open(filename, \"rb\")\n",
    "filecontent = fo.read()\n",
    "encodedcontent = base64.b64encode(filecontent)  # base64\n",
    "\n",
    "sender = 'info@vismaygami.com'\n",
    "reciever = 'gamivismaytesting@gmail.com'\n",
    "\n",
    "marker = \"AUNIQUEMARKER\"\n",
    "\n",
    "body =\"\"\"\n",
    "This is a test email to send an attachement.\n",
    "\"\"\"\n",
    "# Define the main headers.\n",
    "part1 = \"\"\"From: From Person <me@fromdomain.net>\n",
    "To: To Person <amrood.admin@gmail.com>\n",
    "Subject: Sending Attachement\n",
    "MIME-Version: 1.0\n",
    "Content-Type: multipart/mixed; boundary=%s\n",
    "--%s\n",
    "\"\"\" % (marker, marker)\n",
    "\n",
    "# Define the message action\n",
    "part2 = \"\"\"Content-Type: text/plain\n",
    "Content-Transfer-Encoding:8bit\n",
    "\n",
    "%s\n",
    "--%s\n",
    "\"\"\" % (body,marker)\n",
    "\n",
    "# Define the attachment section\n",
    "part3 = \"\"\"Content-Type: multipart/mixed; name=\\\"%s\\\"\n",
    "Content-Transfer-Encoding:base64\n",
    "Content-Disposition: attachment; filename=%s\n",
    "\n",
    "%s\n",
    "--%s--\n",
    "\"\"\" %(filename, filename, encodedcontent, marker)\n",
    "message = part1 + part2 + part3\n",
    "\n",
    "try:\n",
    "    smtpObj = smtplib.SMTP('smtpout.secureserver.net','80')\n",
    "    smtpObj.login('info@vismaygami.com','Info@vismaygami')\n",
    "    smtpObj.sendmail(sender, reciever, message)\n",
    "    print(\"Successfully sent email\")\n",
    "except Exception:\n",
    "    print(\"Error: unable to send email\")"
   ]
  }
 ],
 "metadata": {
  "kernelspec": {
   "display_name": "Python 3",
   "language": "python",
   "name": "python3"
  },
  "language_info": {
   "codemirror_mode": {
    "name": "ipython",
    "version": 3
   },
   "file_extension": ".py",
   "mimetype": "text/x-python",
   "name": "python",
   "nbconvert_exporter": "python",
   "pygments_lexer": "ipython3",
   "version": "3.6.4"
  }
 },
 "nbformat": 4,
 "nbformat_minor": 2
}
