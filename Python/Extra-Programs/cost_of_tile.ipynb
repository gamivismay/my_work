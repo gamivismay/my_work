{
 "cells": [
  {
   "cell_type": "code",
   "execution_count": 2,
   "metadata": {},
   "outputs": [
    {
     "name": "stdout",
     "output_type": "stream",
     "text": [
      "Enter the width: 23\n",
      "Enter the height: 45\n",
      "Enter the cost of tile: 20\n",
      "20700.0\n"
     ]
    }
   ],
   "source": [
    "\"\"\"\n",
    "Calculate the total cost of tile it would take to cover a floor plan of width and height,\n",
    "using a cost entered by the user\n",
    "\"\"\"\n",
    "\n",
    "# defining function to calculate cost of tile for specific width and height\n",
    "def cost_of_tile(width,height,cost):\n",
    "    # calculating total cost of W X H floor\n",
    "    total_cost = width * height * cost\n",
    "    return total_cost\n",
    "\n",
    "# defining main function to run the program logic\n",
    "def main():\n",
    "    # getting and storing width from user input\n",
    "    width = float(input(\"Enter the width: \"))\n",
    "    # getting and storing height from user input\n",
    "    height = float(input(\"Enter the height: \"))\n",
    "    # getting and storing cost from user input\n",
    "    cost = float(input(\"Enter the cost of tile: \"))\n",
    "    print(cost_of_tile(width, height, cost))\n",
    "\n",
    "main()\n"
   ]
  },
  {
   "cell_type": "code",
   "execution_count": null,
   "metadata": {},
   "outputs": [],
   "source": []
  }
 ],
 "metadata": {
  "kernelspec": {
   "display_name": "Python 3",
   "language": "python",
   "name": "python3"
  },
  "language_info": {
   "codemirror_mode": {
    "name": "ipython",
    "version": 3
   },
   "file_extension": ".py",
   "mimetype": "text/x-python",
   "name": "python",
   "nbconvert_exporter": "python",
   "pygments_lexer": "ipython3",
   "version": "3.6.4"
  }
 },
 "nbformat": 4,
 "nbformat_minor": 2
}
