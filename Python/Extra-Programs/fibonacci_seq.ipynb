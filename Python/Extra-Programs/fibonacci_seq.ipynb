{
 "cells": [
  {
   "cell_type": "code",
   "execution_count": 1,
   "metadata": {},
   "outputs": [
    {
     "name": "stdout",
     "output_type": "stream",
     "text": [
      "Please enter the number till you want to calculate fibonacci sequence: 10\n",
      "[0, 1, 1, 2, 3, 5, 8, 13, 21, 34, 55]\n"
     ]
    }
   ],
   "source": [
    "\"\"\"\n",
    "Practice Program 3\n",
    "This program is to calculate fibonacci sequence upto the nth number which is input by user\n",
    "\"\"\"\n",
    "\n",
    "# defining function to calculate fibonacci sequence\n",
    "def fibonacci_seq(num):\n",
    "    \n",
    "    # declaring list with two initial value which will be fixed for fibonacci sequence\n",
    "    fib_seq_list = [0,1]\n",
    "\n",
    "    # using for loop to loop till the number user entered\n",
    "    for i in range(2,num+1):\n",
    "    \n",
    "        # adding each value to the list using append method\n",
    "        fib_seq_list.append(fib_seq_list[i-1] + fib_seq_list[i-2])\n",
    "    \n",
    "    #returning the result value list\n",
    "    return fib_seq_list\n",
    "\n",
    "# defining main function to run the program logic\n",
    "def main():\n",
    "    \n",
    "    # getting user input\n",
    "    num = int(input(\"Please enter the number till you want to calculate fibonacci sequence: \"))\n",
    "    \n",
    "    # calling fibonacci_seq function byu passing user input value as argument and returning the value\n",
    "    print(fibonacci_seq(num))\n",
    "\n",
    "# calling main function\n",
    "main()"
   ]
  },
  {
   "cell_type": "code",
   "execution_count": null,
   "metadata": {},
   "outputs": [],
   "source": []
  }
 ],
 "metadata": {
  "kernelspec": {
   "display_name": "Python 3",
   "language": "python",
   "name": "python3"
  },
  "language_info": {
   "codemirror_mode": {
    "name": "ipython",
    "version": 3
   },
   "file_extension": ".py",
   "mimetype": "text/x-python",
   "name": "python",
   "nbconvert_exporter": "python",
   "pygments_lexer": "ipython3",
   "version": "3.6.4"
  }
 },
 "nbformat": 4,
 "nbformat_minor": 2
}
