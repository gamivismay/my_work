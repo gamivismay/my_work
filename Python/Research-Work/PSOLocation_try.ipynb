{
 "cells": [
  {
   "cell_type": "code",
   "execution_count": 1,
   "metadata": {},
   "outputs": [],
   "source": [
    "import random   \n",
    "import math   "
   ]
  },
  {
   "cell_type": "code",
   "execution_count": 2,
   "metadata": {},
   "outputs": [],
   "source": [
    "SWARM_SIZE = 30\n",
    "MAX_ITERATION = 10000\n",
    "PROBLEM_DIMENSION = 2 \n",
    "C1 = 2.0    \n",
    "C2 = 2.0    \n",
    "W_UPPERBOUND = 1.0  \n",
    "W_LOWERBOUND = 0.0   \n",
    "X_LOW = 10.0\n",
    "X_HIGH = 40.0\n",
    "VELOCITY_LOW = -4.0\n",
    "VELOCITY_HIGH = 4.0\n",
    "DEFINED_LOCATIONS = [[10,10],[40,10],[2,48],[10,40],[40,40]]\n",
    "WEIGHTS = [1000000.0,1000000.0,100000.0,100000.0,1000000.0]\n",
    "ERR_TOLERANCE = 1e-20\n",
    "W = 0.5\n",
    "PARTICLES = []   \n",
    "G_BEST = 0.0   \n",
    "G_BEST_LOCATION = []"
   ]
  },
  {
   "cell_type": "code",
   "execution_count": 3,
   "metadata": {},
   "outputs": [],
   "source": [
    "class Particle:\n",
    "    \n",
    "    def __init__(self):\n",
    "        self.p_best = 0.0\n",
    "        self.l_best = []\n",
    "        self.location = []\n",
    "        self.velocity = []\n",
    "        self.fitness_value = 0.0\n",
    "    \n",
    "    def get_velocity(self):\n",
    "        return self.velocity\n",
    "    \n",
    "    def set_velocity(self, new_velocity):\n",
    "        self.velocity = new_velocity\n",
    "    \n",
    "    def get_location(self):\n",
    "        return self.location\n",
    "    \n",
    "    def set_location(self, new_location):\n",
    "        self.location = new_location\n",
    "    \n",
    "    def get_fitness_value(self):\n",
    "        return self.fitness_value\n",
    "    \n",
    "    def set_fitness_value(self, new_fitness_value):\n",
    "        self.fitness_value = new_fitness_value\n",
    "    \n",
    "    def get_p_best(self):\n",
    "        return self.p_best\n",
    "    \n",
    "    def set_p_best(self, new_p_best):\n",
    "        self.p_best = new_p_best\n",
    "    \n",
    "    def get_l_best(self):\n",
    "        return self.l_best\n",
    "\n",
    "    def set_l_best(self, new_l_best):\n",
    "        self.l_best = new_l_best "
   ]
  },
  {
   "cell_type": "code",
   "execution_count": 4,
   "metadata": {},
   "outputs": [],
   "source": [
    "def initialize_particles():\n",
    "    global G_BEST\n",
    "    global G_BEST_LOCATION\n",
    "    global PARTICLES\n",
    "    \n",
    "    for i in range(SWARM_SIZE):\n",
    "        \n",
    "        p = Particle()\n",
    "        \n",
    "        loc = []\n",
    "        for j in range(PROBLEM_DIMENSION):\n",
    "            loc_value = X_LOW + random.random() * (X_HIGH - X_LOW)\n",
    "            loc.append(loc_value)\n",
    "            \n",
    "        vel = []\n",
    "        for j in range(PROBLEM_DIMENSION):\n",
    "            vel_value = VELOCITY_LOW + random.random() * (VELOCITY_HIGH - VELOCITY_LOW)\n",
    "            vel.append(vel_value)\n",
    "            \n",
    "        p.set_location(loc)    \n",
    "        p.set_velocity(vel)    \n",
    "        p.set_fitness_value(evaluate(loc))   \n",
    "        p.set_p_best(p.get_fitness_value())\n",
    "        p.set_l_best(loc)    \n",
    "        \n",
    "        if i == 0:\n",
    "            G_BEST = p.get_fitness_value()\n",
    "            G_BEST_LOCATION = loc\n",
    "        elif p.get_fitness_value() < G_BEST:\n",
    "            G_BEST = p.get_fitness_value()\n",
    "            G_BEST_LOCATION = loc\n",
    "            \n",
    "        PARTICLES.append(p)"
   ]
  },
  {
   "cell_type": "code",
   "execution_count": 5,
   "metadata": {},
   "outputs": [],
   "source": [
    "def optimize():\n",
    "    global G_BEST\n",
    "    global G_BEST_LOCATION\n",
    "    global PARTICLES\n",
    "    \n",
    "    t = 0\n",
    "    err = 9999\n",
    "    \n",
    "    while t < MAX_ITERATION and err > ERR_TOLERANCE:\n",
    "        \n",
    "        for i in range(SWARM_SIZE):\n",
    "            r1 = random.random()\n",
    "            r2 = random.random()\n",
    "            \n",
    "            p = PARTICLES[i]\n",
    "            \n",
    "            new_vel = []\n",
    "            for j in range(PROBLEM_DIMENSION):\n",
    "                new_vel_value = (W * p.get_velocity()[j]) + ((r1 * C1) * (p.get_l_best()[j] - p.get_location()[j])) + ((r2 * C2) * (G_BEST_LOCATION[j] - p.get_location()[j]))  \n",
    "                new_vel.append(new_vel_value)\n",
    "                \n",
    "            p.set_velocity(new_vel)\n",
    "            \n",
    "            new_loc = []\n",
    "            for j in range(PROBLEM_DIMENSION):\n",
    "                new_position_value = p.get_location()[j] + new_vel[j]\n",
    "                if new_position_value < X_LOW:\n",
    "                    new_position_value = X_LOW\n",
    "#                     new_position_value = X_LOW + random.uniform(0.1,0.2)\n",
    "                if new_position_value > X_HIGH:\n",
    "                    new_position_value = X_HIGH\n",
    "#                     new_position_value = X_HIGH + random.uniform(0.1,0.2)\n",
    "                new_loc.append(new_position_value)\n",
    "            \n",
    "            p.set_location(new_loc)  \n",
    "            p.set_fitness_value(evaluate(new_loc)) \n",
    "            \n",
    "            if p.get_fitness_value() < p.get_p_best():\n",
    "                p.set_p_best(p.get_fitness_value())\n",
    "                p.set_l_best(new_loc)\n",
    "            \n",
    "            if p.get_fitness_value() < G_BEST:\n",
    "                G_BEST = p.get_fitness_value()\n",
    "                G_BEST_LOCATION = new_loc\n",
    "                \n",
    "                print(\"{:15} {:20} {:20} {:20}\".format(str(t), str(G_BEST_LOCATION[0]), str(G_BEST_LOCATION[1]), str(evaluate(G_BEST_LOCATION))))\n",
    "            \n",
    "        err = evaluate(G_BEST_LOCATION)\n",
    "        t += 1\n",
    "    return t\n",
    "            "
   ]
  },
  {
   "cell_type": "code",
   "execution_count": 6,
   "metadata": {},
   "outputs": [],
   "source": [
    "def squared_distance(x,y,px,py):\n",
    "    return (px - x) * (px - x) + (py - y) * (py - y)\n"
   ]
  },
  {
   "cell_type": "code",
   "execution_count": 7,
   "metadata": {},
   "outputs": [],
   "source": [
    "def evaluate(new_location):\n",
    "    radiation = 0.0\n",
    "    \n",
    "    for i in range(len(DEFINED_LOCATIONS)):\n",
    "        radiation += WEIGHTS[i] / squared_distance(DEFINED_LOCATIONS[i][0], DEFINED_LOCATIONS[i][1], new_location[0], new_location[1])\n",
    "        \n",
    "    return radiation  \n",
    "        "
   ]
  },
  {
   "cell_type": "code",
   "execution_count": 8,
   "metadata": {},
   "outputs": [],
   "source": [
    "def main():\n",
    "    print(\"{:15} {:20} {:20} {:20}\".format(\"Iteration\", \"X\", \"Y\", \"Radiation\"))\n",
    "     \n",
    "    initialize_particles()\n",
    "    \n",
    "    t = optimize()\n",
    "    \n",
    "    print(\"\\nSolution found at iteration {}, the solution is: \".format(t-1))\n",
    "    print(\"Best X: {}\".format(G_BEST_LOCATION[0]))\n",
    "    print(\"Best Y: {}\".format(G_BEST_LOCATION[1]))\n",
    "    print(\"Value: {}\".format(evaluate(G_BEST_LOCATION)))\n",
    "    "
   ]
  },
  {
   "cell_type": "code",
   "execution_count": 9,
   "metadata": {},
   "outputs": [
    {
     "name": "stdout",
     "output_type": "stream",
     "text": [
      "Iteration       X                    Y                    Radiation           \n"
     ]
    },
    {
     "ename": "ZeroDivisionError",
     "evalue": "float division by zero",
     "output_type": "error",
     "traceback": [
      "\u001b[1;31m---------------------------------------------------------------------------\u001b[0m",
      "\u001b[1;31mZeroDivisionError\u001b[0m                         Traceback (most recent call last)",
      "\u001b[1;32m<ipython-input-9-263240bbee7e>\u001b[0m in \u001b[0;36m<module>\u001b[1;34m()\u001b[0m\n\u001b[1;32m----> 1\u001b[1;33m \u001b[0mmain\u001b[0m\u001b[1;33m(\u001b[0m\u001b[1;33m)\u001b[0m\u001b[1;33m\u001b[0m\u001b[0m\n\u001b[0m",
      "\u001b[1;32m<ipython-input-8-cf77fc6f3e42>\u001b[0m in \u001b[0;36mmain\u001b[1;34m()\u001b[0m\n\u001b[0;32m      4\u001b[0m     \u001b[0minitialize_particles\u001b[0m\u001b[1;33m(\u001b[0m\u001b[1;33m)\u001b[0m\u001b[1;33m\u001b[0m\u001b[0m\n\u001b[0;32m      5\u001b[0m \u001b[1;33m\u001b[0m\u001b[0m\n\u001b[1;32m----> 6\u001b[1;33m     \u001b[0mt\u001b[0m \u001b[1;33m=\u001b[0m \u001b[0moptimize\u001b[0m\u001b[1;33m(\u001b[0m\u001b[1;33m)\u001b[0m\u001b[1;33m\u001b[0m\u001b[0m\n\u001b[0m\u001b[0;32m      7\u001b[0m \u001b[1;33m\u001b[0m\u001b[0m\n\u001b[0;32m      8\u001b[0m     \u001b[0mprint\u001b[0m\u001b[1;33m(\u001b[0m\u001b[1;34m\"\\nSolution found at iteration {}, the solution is: \"\u001b[0m\u001b[1;33m.\u001b[0m\u001b[0mformat\u001b[0m\u001b[1;33m(\u001b[0m\u001b[0mt\u001b[0m\u001b[1;33m-\u001b[0m\u001b[1;36m1\u001b[0m\u001b[1;33m)\u001b[0m\u001b[1;33m)\u001b[0m\u001b[1;33m\u001b[0m\u001b[0m\n",
      "\u001b[1;32m<ipython-input-5-2ab7cfb1c75f>\u001b[0m in \u001b[0;36moptimize\u001b[1;34m()\u001b[0m\n\u001b[0;32m     34\u001b[0m \u001b[1;33m\u001b[0m\u001b[0m\n\u001b[0;32m     35\u001b[0m             \u001b[0mp\u001b[0m\u001b[1;33m.\u001b[0m\u001b[0mset_location\u001b[0m\u001b[1;33m(\u001b[0m\u001b[0mnew_loc\u001b[0m\u001b[1;33m)\u001b[0m\u001b[1;33m\u001b[0m\u001b[0m\n\u001b[1;32m---> 36\u001b[1;33m             \u001b[0mp\u001b[0m\u001b[1;33m.\u001b[0m\u001b[0mset_fitness_value\u001b[0m\u001b[1;33m(\u001b[0m\u001b[0mevaluate\u001b[0m\u001b[1;33m(\u001b[0m\u001b[0mnew_loc\u001b[0m\u001b[1;33m)\u001b[0m\u001b[1;33m)\u001b[0m\u001b[1;33m\u001b[0m\u001b[0m\n\u001b[0m\u001b[0;32m     37\u001b[0m \u001b[1;33m\u001b[0m\u001b[0m\n\u001b[0;32m     38\u001b[0m             \u001b[1;32mif\u001b[0m \u001b[0mp\u001b[0m\u001b[1;33m.\u001b[0m\u001b[0mget_fitness_value\u001b[0m\u001b[1;33m(\u001b[0m\u001b[1;33m)\u001b[0m \u001b[1;33m<\u001b[0m \u001b[0mp\u001b[0m\u001b[1;33m.\u001b[0m\u001b[0mget_p_best\u001b[0m\u001b[1;33m(\u001b[0m\u001b[1;33m)\u001b[0m\u001b[1;33m:\u001b[0m\u001b[1;33m\u001b[0m\u001b[0m\n",
      "\u001b[1;32m<ipython-input-7-19bb8c138478>\u001b[0m in \u001b[0;36mevaluate\u001b[1;34m(new_location)\u001b[0m\n\u001b[0;32m      3\u001b[0m \u001b[1;33m\u001b[0m\u001b[0m\n\u001b[0;32m      4\u001b[0m     \u001b[1;32mfor\u001b[0m \u001b[0mi\u001b[0m \u001b[1;32min\u001b[0m \u001b[0mrange\u001b[0m\u001b[1;33m(\u001b[0m\u001b[0mlen\u001b[0m\u001b[1;33m(\u001b[0m\u001b[0mDEFINED_LOCATIONS\u001b[0m\u001b[1;33m)\u001b[0m\u001b[1;33m)\u001b[0m\u001b[1;33m:\u001b[0m\u001b[1;33m\u001b[0m\u001b[0m\n\u001b[1;32m----> 5\u001b[1;33m         \u001b[0mradiation\u001b[0m \u001b[1;33m+=\u001b[0m \u001b[0mWEIGHTS\u001b[0m\u001b[1;33m[\u001b[0m\u001b[0mi\u001b[0m\u001b[1;33m]\u001b[0m \u001b[1;33m/\u001b[0m \u001b[0msquared_distance\u001b[0m\u001b[1;33m(\u001b[0m\u001b[0mDEFINED_LOCATIONS\u001b[0m\u001b[1;33m[\u001b[0m\u001b[0mi\u001b[0m\u001b[1;33m]\u001b[0m\u001b[1;33m[\u001b[0m\u001b[1;36m0\u001b[0m\u001b[1;33m]\u001b[0m\u001b[1;33m,\u001b[0m \u001b[0mDEFINED_LOCATIONS\u001b[0m\u001b[1;33m[\u001b[0m\u001b[0mi\u001b[0m\u001b[1;33m]\u001b[0m\u001b[1;33m[\u001b[0m\u001b[1;36m1\u001b[0m\u001b[1;33m]\u001b[0m\u001b[1;33m,\u001b[0m \u001b[0mnew_location\u001b[0m\u001b[1;33m[\u001b[0m\u001b[1;36m0\u001b[0m\u001b[1;33m]\u001b[0m\u001b[1;33m,\u001b[0m \u001b[0mnew_location\u001b[0m\u001b[1;33m[\u001b[0m\u001b[1;36m1\u001b[0m\u001b[1;33m]\u001b[0m\u001b[1;33m)\u001b[0m\u001b[1;33m\u001b[0m\u001b[0m\n\u001b[0m\u001b[0;32m      6\u001b[0m \u001b[1;33m\u001b[0m\u001b[0m\n\u001b[0;32m      7\u001b[0m     \u001b[1;32mreturn\u001b[0m \u001b[0mradiation\u001b[0m\u001b[1;33m\u001b[0m\u001b[0m\n",
      "\u001b[1;31mZeroDivisionError\u001b[0m: float division by zero"
     ]
    }
   ],
   "source": [
    "main()"
   ]
  },
  {
   "cell_type": "code",
   "execution_count": null,
   "metadata": {},
   "outputs": [],
   "source": []
  }
 ],
 "metadata": {
  "kernelspec": {
   "display_name": "Python 3",
   "language": "python",
   "name": "python3"
  },
  "language_info": {
   "codemirror_mode": {
    "name": "ipython",
    "version": 3
   },
   "file_extension": ".py",
   "mimetype": "text/x-python",
   "name": "python",
   "nbconvert_exporter": "python",
   "pygments_lexer": "ipython3",
   "version": "3.6.4"
  }
 },
 "nbformat": 4,
 "nbformat_minor": 2
}
